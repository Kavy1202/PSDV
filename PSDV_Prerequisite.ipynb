{
 "cells": [
  {
   "cell_type": "code",
   "execution_count": 1,
   "id": "99549b38-5e05-4c12-bf58-267d9163430e",
   "metadata": {},
   "outputs": [
    {
     "name": "stdout",
     "output_type": "stream",
     "text": [
      "110 654729075 10.5 10.5 1\n"
     ]
    }
   ],
   "source": [
    "import math\n",
    "import statistics\n",
    "nat_num = list(range(1,21))\n",
    "even_sum = sum(i for i in nat_num if i%2 == 0)\n",
    "odd_prod = math.prod(i for i in nat_num if i%2!= 0)\n",
    "mean = statistics.mean(nat_num)\n",
    "mode = statistics.mode(nat_num)\n",
    "median = statistics.median(nat_num)\n",
    "print(even_sum,odd_prod,mean,median,mode,)"
   ]
  },
  {
   "cell_type": "code",
   "execution_count": null,
   "id": "c832f251-09a9-4a7d-8a39-eb10233ab2fa",
   "metadata": {},
   "outputs": [],
   "source": [
    "'''Mutable data types are data types that can be modified with user commands. ex- Lists, Strings\n",
    "Immutable data types do not allow this modification. Ex - tuples, dictionaries'''"
   ]
  },
  {
   "cell_type": "code",
   "execution_count": 93,
   "id": "6a083f96-98df-4736-b7f7-611cf42fded3",
   "metadata": {},
   "outputs": [
    {
     "name": "stdout",
     "output_type": "stream",
     "text": [
      "The first 15 Fibonacci numbers: [0, 1, 1, 2, 3, 5, 8, 13, 21, 34, 55, 89, 144, 233, 377]\n"
     ]
    }
   ],
   "source": [
    "import matplotlib.pyplot as plt\n",
    "def generate_fibonacci(n):\n",
    "    if n <= 0:\n",
    "       return []\n",
    "    elif n == 1:\n",
    "        return [0]\n",
    "    elif n == 2:\n",
    "        return [0, 1]\n",
    "\n",
    "    fib_sequence = [0, 1]\n",
    "    for _ in range(2, n):\n",
    "        fib_sequence.append(fib_sequence[-1] + fib_sequence[-2])\n",
    "    return fib_sequence\n",
    "n = 15\n",
    "fibonacci_numbers = generate_fibonacci(n)\n",
    "print(f\"The first {n} Fibonacci numbers: {fibonacci_numbers}\")\n"
   ]
  },
  {
   "cell_type": "code",
   "execution_count": 5,
   "id": "01bcd112-7868-46c1-a965-55ee1b3ecdf5",
   "metadata": {},
   "outputs": [
    {
     "name": "stdout",
     "output_type": "stream",
     "text": [
      "Modified List: [13, 11, 9, 6, 5, 3]\n",
      "Mean: 7.833333333333333\n",
      "Median: 7.5\n"
     ]
    }
   ],
   "source": [
    "import statistics\n",
    "lst = [3, 5, 7, 9, 11, 13]\n",
    "lst.insert(3, 6)\n",
    "lst.remove(7)\n",
    "lst.reverse()\n",
    "mean = statistics.mean(lst)\n",
    "median = statistics.median(lst)\n",
    "print(\"Modified List:\", lst)\n",
    "print(\"Mean:\", mean)\n",
    "print(\"Median:\", median)\n"
   ]
  },
  {
   "cell_type": "code",
   "execution_count": 91,
   "id": "23a5cfd7-6cfa-4c12-ba8b-cc3a7c0ca5f8",
   "metadata": {},
   "outputs": [
    {
     "name": "stdin",
     "output_type": "stream",
     "text": [
      "Enter numbers (comma-separated):  12,3,1,3,24,4,34,3,23,13,32,3,2\n"
     ]
    },
    {
     "name": "stdout",
     "output_type": "stream",
     "text": [
      "Mean: 12.076923076923077\n",
      "Smallest number: 1\n",
      "Largest number: 34\n"
     ]
    }
   ],
   "source": [
    "import matplotlib.pyplot as plt\n",
    "numbers = list(map(int, input(\"Enter numbers (comma-separated): \").split(',')))\n",
    "mean = sum(numbers) / len(numbers)\n",
    "smallest = min(numbers)\n",
    "largest = max(numbers)\n",
    "print(\"Mean:\", mean)\n",
    "print(\"Smallest number:\", smallest)\n",
    "print(\"Largest number:\", largest)\n"
   ]
  },
  {
   "cell_type": "code",
   "execution_count": 6,
   "id": "56159f64-7740-4c8d-8988-c6bb674acada",
   "metadata": {},
   "outputs": [
    {
     "name": "stdout",
     "output_type": "stream",
     "text": [
      "Is Palindrome: True\n"
     ]
    }
   ],
   "source": [
    "def is_palindrome(s):\n",
    "    s = ''.join(c.lower() for c in s if c.isalnum())\n",
    "    return s == s[::-1]\n",
    "\n",
    "input_string = \"A man a plan a canal Panama\"\n",
    "print(\"Is Palindrome:\", is_palindrome(input_string))\n"
   ]
  },
  {
   "cell_type": "code",
   "execution_count": 90,
   "id": "0a5b71b9-bc11-4011-8d0c-f754ab11f3a6",
   "metadata": {},
   "outputs": [
    {
     "name": "stdout",
     "output_type": "stream",
     "text": [
      "Average Marks: 76.75\n",
      "Students scoring above average: ['Alice', 'Charlie']\n"
     ]
    }
   ],
   "source": [
    "import matplotlib.pyplot as plt\n",
    "students = {\"Alice\": 85, \"Bob\": 72, \"Charlie\": 90, \"David\": 60}\n",
    "average_marks = sum(students.values()) / len(students)\n",
    "above_average = [name for name, marks in students.items() if marks > average_marks]\n",
    "print(\"Average Marks:\", average_marks)\n",
    "print(\"Students scoring above average:\", above_average)"
   ]
  },
  {
   "cell_type": "code",
   "execution_count": 10,
   "id": "cbc6cf37-5654-4f89-9497-10ae225d0d32",
   "metadata": {},
   "outputs": [
    {
     "name": "stdout",
     "output_type": "stream",
     "text": [
      "Merged Dictionary: {'c': 15, 'b': 25, 'a': 10}\n"
     ]
    }
   ],
   "source": [
    "dict1 = {'a': 10, 'b': 20}\n",
    "dict2 = {'b': 5, 'c': 15}\n",
    "merged_dict = {key: dict1.get(key, 0) + dict2.get(key, 0) for key in set(dict1) | set(dict2)}\n",
    "print(\"Merged Dictionary:\", merged_dict)\n"
   ]
  },
  {
   "cell_type": "code",
   "execution_count": 89,
   "id": "098e9663-f4e3-46cf-a23a-579188ca347a",
   "metadata": {},
   "outputs": [
    {
     "name": "stdin",
     "output_type": "stream",
     "text": [
      "Enter a string: hey I am an IITian, I study in IIT Gandhinagar. There are total 23 IITs in india,students from these IITs get a good career opportunities worldwide.\n"
     ]
    },
    {
     "name": "stdout",
     "output_type": "stream",
     "text": [
      "Character Frequencies: {'h': 4, 'e': 12, 'y': 2, 'i': 19, 'a': 11, 'm': 2, 'n': 9, 't': 14, 's': 7, 'u': 3, 'd': 7, 'g': 4, 'r': 8, 'o': 7, 'l': 2, '2': 1, '3': 1, 'f': 1, 'c': 1, 'p': 2, 'w': 2}\n"
     ]
    }
   ],
   "source": [
    "import matplotlib.pyplot as plt\n",
    "def analyze_character_frequency(input_string):\n",
    "    input_string = input_string.lower()\n",
    "    frequency = {}\n",
    "    for char in input_string:\n",
    "        if char.isalnum(): \n",
    "            frequency[char] = frequency.get(char, 0) + 1\n",
    "    print(\"Character Frequencies:\", frequency)\n",
    "input_string = input(\"Enter a string:\")\n",
    "char_frequencies = analyze_character_frequency(input_string)\n"
   ]
  },
  {
   "cell_type": "code",
   "execution_count": 20,
   "id": "235a8ea0-9bcf-43a3-8262-f788f6dbfe72",
   "metadata": {},
   "outputs": [
    {
     "name": "stdout",
     "output_type": "stream",
     "text": [
      "Numbers written to file successfully.\n",
      "The sum of the numbers is: 79\n"
     ]
    },
    {
     "data": {
      "text/plain": [
       "79"
      ]
     },
     "execution_count": 20,
     "metadata": {},
     "output_type": "execute_result"
    }
   ],
   "source": [
    "def file_operations():\n",
    "    numbers = [1, 2, 3, 4, 69]\n",
    "    with open(\"numbers.txt\", \"w\") as file:\n",
    "        for num in numbers:\n",
    "            file.write(f\"{num}\\n\")\n",
    "    print(\"Numbers written to file successfully.\")\n",
    "    total_sum = 0\n",
    "    with open(\"numbers.txt\", \"r\") as file:\n",
    "        for line in file:\n",
    "            total_sum += int(line.strip())\n",
    "\n",
    "    print(f\"The sum of the numbers is: {total_sum}\")\n",
    "    return total_sum\n",
    "file_operations()\n"
   ]
  },
  {
   "cell_type": "code",
   "execution_count": 8,
   "id": "76ec1ccd-bc28-4011-89f2-600fe86ae00a",
   "metadata": {},
   "outputs": [
    {
     "name": "stdout",
     "output_type": "stream",
     "text": [
      "Numbers have been written to numbers.txt.\n",
      "The sum of the numbers in the file is: 150\n"
     ]
    }
   ],
   "source": [
    "#Question 17\n",
    "numbers = [10, 20, 30, 40, 50]\n",
    "with open(\"numbers.txt\", \"w\") as file:\n",
    "    for number in numbers:\n",
    "        file.write(f\"{number}\\n\")\n",
    "\n",
    "print(\"Numbers have been written to numbers.txt.\")\n",
    "total = 0\n",
    "with open(\"numbers.txt\", \"r\") as file:\n",
    "    for line in file:\n",
    "        total += int(line.strip())\n",
    "print(f\"The sum of the numbers in the file is: {total}\")\n"
   ]
  },
  {
   "cell_type": "code",
   "execution_count": 14,
   "id": "cee5f491-c0a2-44c8-9fe3-b0e2c5ad2ff4",
   "metadata": {},
   "outputs": [
    {
     "name": "stdout",
     "output_type": "stream",
     "text": [
      "mean is: 26.01\n"
     ]
    }
   ],
   "source": [
    "import random\n",
    "import numpy as np\n",
    "numbers = np.random.randint(1,50,100)\n",
    "with open(\"numbers2.txt\",'w') as file:\n",
    "    for i in numbers:\n",
    "        file.write(f\"{i}\\n\")\n",
    "numbers_from_file = []\n",
    "with open(\"numbers2.txt\",'r') as file:\n",
    "    for line in file:\n",
    "        numbers_from_file.append(int(line.strip()))\n",
    "\n",
    "mean = np.mean(numbers_from_file)\n",
    "print(f\"mean is:{mean: .2f}\")\n",
    "        "
   ]
  },
  {
   "cell_type": "code",
   "execution_count": 84,
   "id": "bd5c027d-6582-4529-a76e-a6c7b5664784",
   "metadata": {},
   "outputs": [
    {
     "name": "stdout",
     "output_type": "stream",
     "text": [
      "{'hey': 1, 'i': 2, 'am': 1, 'an': 1, 'iitian,': 1, 'study': 1, 'in': 2, 'iit': 1, 'gandhinagar.': 1, 'there': 1, 'are': 1, 'total': 1, '23': 1, 'iits': 2, 'india,students': 1, 'from': 1, 'these': 1, 'get': 1, 'a': 1, 'good': 1, 'career': 1, 'opportunities': 1, 'worldwide.': 1}\n"
     ]
    }
   ],
   "source": [
    "import matplotlib.pyplot as plt\n",
    "\n",
    "def word_counter(file):\n",
    "    word_count = {}\n",
    "    with open(\"file.txt\",'r') as file:\n",
    "        for line in file:\n",
    "            words = line.strip().split()\n",
    "            for word in words:\n",
    "                word = word.lower().strip()\n",
    "                if word in word_count:\n",
    "                    word_count[word] += 1\n",
    "                else:\n",
    "                    word_count[word] = 1\n",
    "    return word_count\n",
    "def most_frequent_word(word_count):\n",
    "    max_count = 0\n",
    "    for word,count in word_count.items():\n",
    "        if count > max_count:\n",
    "            max_count = count\n",
    "            most_frequent = word\n",
    "    return most_frequent,max_count\n",
    "file1 = \"file.txt\"\n",
    "ultimate_result = word_counter(file1)\n",
    "print(ultimate_result)\n",
    "            "
   ]
  },
  {
   "cell_type": "code",
   "execution_count": 63,
   "id": "9141f4f7-a50f-4b63-b4eb-9726a3a856ea",
   "metadata": {},
   "outputs": [
    {
     "name": "stdout",
     "output_type": "stream",
     "text": [
      "0.26  0.83  1.0  0.27  0.23  0.9  0.0  0.51  0.93  0.11  "
     ]
    }
   ],
   "source": [
    "import random\n",
    "\n",
    "list1 = []\n",
    "for _ in range(10):\n",
    "    numbers = random.uniform(0,1)\n",
    "    list1.append(round(numbers,2))\n",
    "    \n",
    "def normalisation(any_list):\n",
    "    for i in any_list:\n",
    "        formula = round((i - min(any_list))/(max(any_list)-min(any_list)),2)\n",
    "        print(formula,end = '  ')\n",
    "result = normalisation(list1)"
   ]
  },
  {
   "cell_type": "code",
   "execution_count": 74,
   "id": "ca842268-ffa0-4d77-9d08-6160829df23c",
   "metadata": {},
   "outputs": [
    {
     "name": "stdout",
     "output_type": "stream",
     "text": [
      "{1, 2, 3, 4, 5, 6, 7} and {5, 7, 9, 11, 13, 15}\n",
      " intersection is :{1, 2, 3, 4, 5, 6, 7, 9, 11, 13, 15}\n",
      " union is : {5, 7}\n",
      "symmetric difference is : {1, 2, 3, 4, 6, 9, 11, 13, 15}\n"
     ]
    }
   ],
   "source": [
    "lst1 = set([1,2,3,4,5,6,7])\n",
    "lst2 = set([5,7,9,11,13,15])\n",
    "print(lst1,'and',lst2)\n",
    "intersection = lst1 | lst2\n",
    "union = lst1 & lst2\n",
    "sym_diff = lst1 ^ lst2\n",
    "print(f\" intersection is :{intersection}\")\n",
    "print(f\" union is : {union}\")\n",
    "print(f\"symmetric difference is : {sym_diff}\")"
   ]
  },
  {
   "cell_type": "code",
   "execution_count": 76,
   "id": "489111f3-8a22-4dd8-babb-d5b57cd63879",
   "metadata": {},
   "outputs": [
    {
     "name": "stdin",
     "output_type": "stream",
     "text": [
      "Enter a number: 1320981973824413423523174\n"
     ]
    },
    {
     "name": "stdout",
     "output_type": "stream",
     "text": [
      "The number is even\n"
     ]
    }
   ],
   "source": [
    "number = int(input(\"Enter a number:\"))\n",
    "if number%2 == 0:\n",
    "    print(\"The number is even\")\n",
    "else:\n",
    "    print(\"The number is false\")"
   ]
  },
  {
   "cell_type": "code",
   "execution_count": 77,
   "id": "e432d5f0-8802-43ff-86fc-a8f98a77d714",
   "metadata": {},
   "outputs": [
    {
     "name": "stdin",
     "output_type": "stream",
     "text": [
      "Enter the numerical grade (0-100):  84\n"
     ]
    },
    {
     "name": "stdout",
     "output_type": "stream",
     "text": [
      "The letter grade is: B\n"
     ]
    }
   ],
   "source": [
    "def calculate_letter_grade(numerical_grade):\n",
    "    if 90 <= numerical_grade <= 100:\n",
    "        return 'A'\n",
    "    elif 80 <= numerical_grade < 90:\n",
    "        return 'B'\n",
    "    elif 70 <= numerical_grade < 80:\n",
    "        return 'C'\n",
    "    elif 60 <= numerical_grade < 70:\n",
    "        return 'D'\n",
    "    elif 0 <= numerical_grade < 60:\n",
    "        return 'F'\n",
    "    else:\n",
    "        return 'Invalid grade. Please enter a number between 0 and 100.'\n",
    "try:\n",
    "    numerical_grade = float(input(\"Enter the numerical grade (0-100): \"))\n",
    "    letter_grade = calculate_letter_grade(numerical_grade)\n",
    "    print(f\"The letter grade is: {letter_grade}\")\n",
    "except ValueError:\n",
    "    print(\"Invalid input. Please enter a numeric value.\")\n"
   ]
  },
  {
   "cell_type": "code",
   "execution_count": 83,
   "id": "18b4932f-320c-4e5e-883e-46ddc2455547",
   "metadata": {},
   "outputs": [
    {
     "name": "stdin",
     "output_type": "stream",
     "text": [
      "Enter a year: 2020\n"
     ]
    },
    {
     "name": "stdout",
     "output_type": "stream",
     "text": [
      "(True, 'it is a leap year')\n"
     ]
    }
   ],
   "source": [
    "def is_leap_year(year):\n",
    "    if year%4 == 0 and year%100 != 0 or year%400 == 0:\n",
    "        return (True,\"it is a leap year\")\n",
    "    else:\n",
    "        return (False,\"Not a leap year\")\n",
    "year = int(input(\"Enter a year:\"))\n",
    "result = is_leap_year(year)\n",
    "print(result)\n"
   ]
  }
 ],
 "metadata": {
  "kernelspec": {
   "display_name": "Python 3 (ipykernel)",
   "language": "python",
   "name": "python3"
  },
  "language_info": {
   "codemirror_mode": {
    "name": "ipython",
    "version": 3
   },
   "file_extension": ".py",
   "mimetype": "text/x-python",
   "name": "python",
   "nbconvert_exporter": "python",
   "pygments_lexer": "ipython3",
   "version": "3.10.6"
  }
 },
 "nbformat": 4,
 "nbformat_minor": 5
}
