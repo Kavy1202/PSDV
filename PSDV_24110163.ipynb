{
 "cells": [
  {
   "cell_type": "markdown",
   "id": "29557a4d-ddcf-4f17-a260-1be4b97a8b4a",
   "metadata": {},
   "source": [
    "KAVYANSH SHANDILYA - 24110163"
   ]
  },
  {
   "cell_type": "markdown",
   "id": "ef1458da-9c6b-4582-95ad-7fec850d3a14",
   "metadata": {},
   "source": [
    "QUESTION 1"
   ]
  },
  {
   "cell_type": "code",
   "execution_count": null,
   "id": "5be109bd-adf4-4de4-af4e-4d7a42e86c60",
   "metadata": {},
   "outputs": [],
   "source": [
    "import math\n",
    "import statistics\n",
    "nat_num = list(range(1,21))\n",
    "even_sum = sum(i for i in nat_num if i%2 == 0)\n",
    "odd_prod = math.prod(i for i in nat_num if i%2!= 0)\n",
    "mean = statistics.mean(nat_num)\n",
    "mode = statistics.mode(nat_num)\n",
    "median = statistics.median(nat_num)\n",
    "print(even_sum,odd_prod,mean,median,mode,)"
   ]
  },
  {
   "cell_type": "markdown",
   "id": "43f7f7d8-4749-44cc-8898-6dbbd6009819",
   "metadata": {},
   "source": [
    "QUESTION 2"
   ]
  },
  {
   "cell_type": "markdown",
   "id": "4832fa01-0580-477e-b922-b0f33504c2db",
   "metadata": {},
   "source": [
    ">Mutable data types are data types that can be modified with user commands. ex- Lists, Dictionaries whereas\n",
    ">Immutable data types do not allow this modification. Ex - tuples, strings"
   ]
  },
  {
   "cell_type": "markdown",
   "id": "3611691d-f869-4f8a-8d62-e1794c70ea5d",
   "metadata": {},
   "source": [
    "QUESTION 3"
   ]
  },
  {
   "cell_type": "code",
   "execution_count": 93,
   "id": "6a083f96-98df-4736-b7f7-611cf42fded3",
   "metadata": {},
   "outputs": [
    {
     "name": "stdout",
     "output_type": "stream",
     "text": [
      "The first 15 Fibonacci numbers: [0, 1, 1, 2, 3, 5, 8, 13, 21, 34, 55, 89, 144, 233, 377]\n"
     ]
    }
   ],
   "source": [
    "def generate_fibonacci(n):\n",
    "    if n <= 0:\n",
    "       return []\n",
    "    elif n == 1:\n",
    "        return [0]\n",
    "    elif n == 2:\n",
    "        return [0, 1]\n",
    "\n",
    "    fib_sequence = [0, 1]\n",
    "    for _ in range(2, n):\n",
    "        fib_sequence.append(fib_sequence[-1] + fib_sequence[-2])\n",
    "    return fib_sequence\n",
    "n = 15\n",
    "fibonacci_numbers = generate_fibonacci(n)\n",
    "print(f\"The first {n} Fibonacci numbers: {fibonacci_numbers}\")\n"
   ]
  },
  {
   "cell_type": "markdown",
   "id": "d612dffe-70d5-4a65-a285-d45b9338ac3b",
   "metadata": {},
   "source": [
    "QUESTION 4"
   ]
  },
  {
   "cell_type": "code",
   "execution_count": 5,
   "id": "01bcd112-7868-46c1-a965-55ee1b3ecdf5",
   "metadata": {},
   "outputs": [
    {
     "name": "stdout",
     "output_type": "stream",
     "text": [
      "Modified List: [13, 11, 9, 6, 5, 3]\n",
      "Mean: 7.833333333333333\n",
      "Median: 7.5\n"
     ]
    }
   ],
   "source": [
    "import statistics\n",
    "lst = [3, 5, 7, 9, 11, 13]\n",
    "lst.insert(3, 6)\n",
    "lst.remove(7)\n",
    "lst.reverse()\n",
    "mean = statistics.mean(lst)\n",
    "median = statistics.median(lst)\n",
    "print(\"Modified List:\", lst)\n",
    "print(\"Mean:\", mean)\n",
    "print(\"Median:\", median)\n"
   ]
  },
  {
   "cell_type": "markdown",
   "id": "d25d8d35-4879-4a3b-b115-34f6f58eb604",
   "metadata": {},
   "source": [
    "QUESTION 5"
   ]
  },
  {
   "cell_type": "code",
   "execution_count": 91,
   "id": "23a5cfd7-6cfa-4c12-ba8b-cc3a7c0ca5f8",
   "metadata": {},
   "outputs": [
    {
     "name": "stdin",
     "output_type": "stream",
     "text": [
      "Enter numbers (comma-separated):  12,3,1,3,24,4,34,3,23,13,32,3,2\n"
     ]
    },
    {
     "name": "stdout",
     "output_type": "stream",
     "text": [
      "Mean: 12.076923076923077\n",
      "Smallest number: 1\n",
      "Largest number: 34\n"
     ]
    }
   ],
   "source": [
    "numbers = list(map(int, input(\"Enter numbers (comma-separated): \").split(',')))\n",
    "mean = sum(numbers) / len(numbers)\n",
    "smallest = min(numbers)\n",
    "largest = max(numbers)\n",
    "print(\"Mean:\", mean)\n",
    "print(\"Smallest number:\", smallest)\n",
    "print(\"Largest number:\", largest)\n"
   ]
  },
  {
   "cell_type": "markdown",
   "id": "d43bebae-2f18-4c3c-92d0-10027d774d5a",
   "metadata": {},
   "source": [
    "QUESTION 6"
   ]
  },
  {
   "cell_type": "code",
   "execution_count": 6,
   "id": "56159f64-7740-4c8d-8988-c6bb674acada",
   "metadata": {},
   "outputs": [
    {
     "name": "stdout",
     "output_type": "stream",
     "text": [
      "Is Palindrome: True\n"
     ]
    }
   ],
   "source": [
    "def is_palindrome(s):\n",
    "    s = ''.join(c.lower() for c in s if c.isalnum())\n",
    "    return s == s[::-1]\n",
    "\n",
    "input_string = \"A man a plan a canal Panama\"\n",
    "print(\"Is Palindrome:\", is_palindrome(input_string))\n"
   ]
  },
  {
   "cell_type": "markdown",
   "id": "c3e1a1df-1153-4f60-90a5-6f8a62b6cd17",
   "metadata": {},
   "source": [
    "QUESTION 7 "
   ]
  },
  {
   "cell_type": "code",
   "execution_count": 90,
   "id": "0a5b71b9-bc11-4011-8d0c-f754ab11f3a6",
   "metadata": {},
   "outputs": [
    {
     "name": "stdout",
     "output_type": "stream",
     "text": [
      "Average Marks: 76.75\n",
      "Students scoring above average: ['Alice', 'Charlie']\n"
     ]
    }
   ],
   "source": [
    "students = {\"Alice\": 85, \"Bob\": 72, \"Charlie\": 90, \"David\": 60}\n",
    "average_marks = sum(students.values()) / len(students)\n",
    "above_average = [name for name, marks in students.items() if marks > average_marks]\n",
    "print(\"Average Marks:\", average_marks)\n",
    "print(\"Students scoring above average:\", above_average)"
   ]
  },
  {
   "cell_type": "markdown",
   "id": "43900ee5-0570-4960-ac9e-ce45d10ed77e",
   "metadata": {},
   "source": [
    "QUESTION 9"
   ]
  },
  {
   "cell_type": "code",
   "execution_count": 10,
   "id": "cbc6cf37-5654-4f89-9497-10ae225d0d32",
   "metadata": {},
   "outputs": [
    {
     "name": "stdout",
     "output_type": "stream",
     "text": [
      "Merged Dictionary: {'c': 15, 'b': 25, 'a': 10}\n"
     ]
    }
   ],
   "source": [
    "dict1 = {'a': 10, 'b': 20}\n",
    "dict2 = {'b': 5, 'c': 15}\n",
    "merged_dict = {key: dict1.get(key, 0) + dict2.get(key, 0) for key in set(dict1) | set(dict2)}\n",
    "print(\"Merged Dictionary:\", merged_dict)\n"
   ]
  },
  {
   "cell_type": "markdown",
   "id": "bc4ce737-95c4-418d-aad1-a423694f917c",
   "metadata": {},
   "source": [
    "QUESTION 10"
   ]
  },
  {
   "cell_type": "code",
   "execution_count": 89,
   "id": "098e9663-f4e3-46cf-a23a-579188ca347a",
   "metadata": {},
   "outputs": [
    {
     "name": "stdin",
     "output_type": "stream",
     "text": [
      "Enter a string: hey I am an IITian, I study in IIT Gandhinagar. There are total 23 IITs in india,students from these IITs get a good career opportunities worldwide.\n"
     ]
    },
    {
     "name": "stdout",
     "output_type": "stream",
     "text": [
      "Character Frequencies: {'h': 4, 'e': 12, 'y': 2, 'i': 19, 'a': 11, 'm': 2, 'n': 9, 't': 14, 's': 7, 'u': 3, 'd': 7, 'g': 4, 'r': 8, 'o': 7, 'l': 2, '2': 1, '3': 1, 'f': 1, 'c': 1, 'p': 2, 'w': 2}\n"
     ]
    }
   ],
   "source": [
    "def analyze_character_frequency(input_string):\n",
    "    input_string = input_string.lower()\n",
    "    frequency = {}\n",
    "    for char in input_string:\n",
    "        if char.isalnum(): \n",
    "            frequency[char] = frequency.get(char, 0) + 1\n",
    "    print(\"Character Frequencies:\", frequency)\n",
    "input_string = input(\"Enter a string:\")\n",
    "char_frequencies = analyze_character_frequency(input_string)\n"
   ]
  },
  {
   "cell_type": "markdown",
   "id": "5dcec42f-79b1-4a32-8bb8-958dc8440b0e",
   "metadata": {},
   "source": [
    "QUESTION 11"
   ]
  },
  {
   "cell_type": "code",
   "execution_count": 7,
   "id": "319e889d-ee13-4868-b8a8-f9384ba874db",
   "metadata": {},
   "outputs": [
    {
     "name": "stdout",
     "output_type": "stream",
     "text": [
      "Original List: [10, 20, 10, 30, 20, 40, 50, 30, 60, 80, 60, 10, 30]\n",
      "Unique List: [10, 20, 30, 40, 50, 60, 80]\n",
      "Mean of Unique Elements: 41.42857142857143\n",
      "Median of Unique Elements: 40\n"
     ]
    }
   ],
   "source": [
    "from statistics import mean, median\n",
    "\n",
    "def remove_duplicate(any_list):\n",
    "    unique_list = []\n",
    "    for item in any_list:\n",
    "        if item not in unique_list:\n",
    "            unique_list.append(item)\n",
    "    unique_mean = mean(unique_list)\n",
    "    unique_median = median(unique_list)\n",
    "    return unique_list, unique_mean, unique_median\n",
    "    \n",
    "input_list = [10,20,10,30,20,40,50,30,60,80,60,10,30]\n",
    "unique_list, unique_mean, unique_median = remove_duplicate(input_list)\n",
    "\n",
    "print(\"Original List:\", input_list)\n",
    "print(\"Unique List:\", unique_list)\n",
    "print(\"Mean of Unique Elements:\", unique_mean)\n",
    "print(\"Median of Unique Elements:\", unique_median)\n"
   ]
  },
  {
   "cell_type": "markdown",
   "id": "073e1d23-6a5b-4dd6-b8f4-505159ea2a60",
   "metadata": {},
   "source": [
    "QUESTION 12"
   ]
  },
  {
   "cell_type": "code",
   "execution_count": 10,
   "id": "38a70664-befb-4457-9b7f-f4db2859e2ad",
   "metadata": {},
   "outputs": [
    {
     "name": "stdout",
     "output_type": "stream",
     "text": [
      "Longest String: Indian_Institute_of_Technology\n",
      "Number of Strings Starting with a Vowel: 5\n"
     ]
    }
   ],
   "source": [
    "def analyze_strings(strings):\n",
    "    longest_string = max(strings, key=len)\n",
    "    vowels = {'a', 'e', 'i', 'o', 'u', 'A', 'E', 'I', 'O', 'U'}\n",
    "    count_vowel_start = sum(1 for s in strings if s and s[0] in vowels)\n",
    "    \n",
    "    return longest_string, count_vowel_start\n",
    "strings = [\"apple\", \"banana\", \"orange\", \"umbrella\", \"Indian_Institute_of_Technology\", \"elephant\", \"grape\"]\n",
    "longest, vowel_count = analyze_strings(strings)\n",
    "print(\"Longest String:\", longest)\n",
    "print(\"Number of Strings Starting with a Vowel:\", vowel_count)"
   ]
  },
  {
   "cell_type": "markdown",
   "id": "380db2e2-1b6e-4d6b-a523-479b1ed42e0f",
   "metadata": {},
   "source": [
    "QUESTION 13"
   ]
  },
  {
   "cell_type": "code",
   "execution_count": 11,
   "id": "1f83ef3c-30e2-4e66-af67-0552b90501d7",
   "metadata": {},
   "outputs": [
    {
     "name": "stdout",
     "output_type": "stream",
     "text": [
      "[{'name': 'Bob', 'age': 22}, {'name': 'Alice', 'age': 25}]\n"
     ]
    }
   ],
   "source": [
    "def sort_by_key(data, key):\n",
    "    def get_key(item):\n",
    "        return item[key]\n",
    "    return sorted(data, key=get_key)\n",
    "data = [{'name': 'Alice', 'age': 25}, {'name': 'Bob', 'age': 22}]\n",
    "sorted_data = sort_by_key(data, 'age')\n",
    "print(sorted_data)\n"
   ]
  },
  {
   "cell_type": "markdown",
   "id": "3785200f-7275-40f6-816c-aac4ca24a1b2",
   "metadata": {},
   "source": [
    "QUESTION 14 "
   ]
  },
  {
   "cell_type": "code",
   "execution_count": 12,
   "id": "ca2065c3-bff3-44e9-90f6-88c89be2b40a",
   "metadata": {},
   "outputs": [
    {
     "name": "stdout",
     "output_type": "stream",
     "text": [
      "['study', 'gandhinagar', 'BTech', 'year', 'program']\n"
     ]
    }
   ],
   "source": [
    "def filter_and_sort_words(input_string):\n",
    "    words = input_string.split()\n",
    "    filtered_words = [word for word in words if len(word) >= 4]\n",
    "    return filtered_words\n",
    "input_string = \"I study in IIT gandhinagar for BTech 4 year program\"\n",
    "result = filter_and_sort_words(input_string)\n",
    "print(result)\n"
   ]
  },
  {
   "cell_type": "markdown",
   "id": "015a5a58-111f-4ba5-bb22-623cc0567b79",
   "metadata": {},
   "source": [
    "QUESTION 15"
   ]
  },
  {
   "cell_type": "code",
   "execution_count": 13,
   "id": "84d02d3f-583d-4383-85f3-5154b8a03e18",
   "metadata": {},
   "outputs": [
    {
     "name": "stdout",
     "output_type": "stream",
     "text": [
      "['enlist', 'inlets']\n"
     ]
    }
   ],
   "source": [
    "def find_anagrams(word, words):\n",
    "    sorted_word = sorted(word)\n",
    "    return [w for w in words if sorted(w) == sorted_word]\n",
    "word = \"listen\"\n",
    "words = [\"enlist\", \"google\", \"inlets\", \"banana\"]\n",
    "result = find_anagrams(word, words)\n",
    "print(result)"
   ]
  },
  {
   "cell_type": "markdown",
   "id": "97cedce8-b467-4961-bfff-ba1b2bf2d817",
   "metadata": {},
   "source": [
    "QUESTION 16"
   ]
  },
  {
   "cell_type": "code",
   "execution_count": 14,
   "id": "a949baa2-5083-4899-b8d0-0bfbd1e217d1",
   "metadata": {},
   "outputs": [
    {
     "name": "stdout",
     "output_type": "stream",
     "text": [
      "Intersection: [4, 5]\n",
      "Union: [1, 2, 3, 4, 5, 6, 7, 8]\n",
      "Symmetric Difference: [1, 2, 3, 6, 7, 8]\n"
     ]
    }
   ],
   "source": [
    "def list_operations(list1, list2):\n",
    "    set1, set2 = set(list1), set(list2)\n",
    "    intersection = list(set1 & set2) \n",
    "    union = list(set1 | set2)\n",
    "    symmetric_difference = list(set1 ^ set2)\n",
    "    return intersection, union, symmetric_difference\n",
    "list1 = [1, 2, 3, 4, 5]\n",
    "list2 = [4, 5, 6, 7, 8]\n",
    "\n",
    "intersection, union, symmetric_difference = list_operations(list1, list2)\n",
    "print(\"Intersection:\", intersection)\n",
    "print(\"Union:\", union)\n",
    "print(\"Symmetric Difference:\", symmetric_difference)\n"
   ]
  },
  {
   "cell_type": "markdown",
   "id": "33b1e0c4-b2dc-43d5-b12f-753b0dc0615b",
   "metadata": {},
   "source": [
    "QUESTION 17"
   ]
  },
  {
   "cell_type": "code",
   "execution_count": 20,
   "id": "235a8ea0-9bcf-43a3-8262-f788f6dbfe72",
   "metadata": {},
   "outputs": [
    {
     "name": "stdout",
     "output_type": "stream",
     "text": [
      "Numbers written to file successfully.\n",
      "The sum of the numbers is: 79\n"
     ]
    },
    {
     "data": {
      "text/plain": [
       "79"
      ]
     },
     "execution_count": 20,
     "metadata": {},
     "output_type": "execute_result"
    }
   ],
   "source": [
    "def file_operations():\n",
    "    numbers = [1, 2, 3, 4, 69]\n",
    "    with open(\"numbers.txt\", \"w\") as file:\n",
    "        for num in numbers:\n",
    "            file.write(f\"{num}\\n\")\n",
    "    print(\"Numbers written to file successfully.\")\n",
    "    total_sum = 0\n",
    "    with open(\"numbers.txt\", \"r\") as file:\n",
    "        for line in file:\n",
    "            total_sum += int(line.strip())\n",
    "\n",
    "    print(f\"The sum of the numbers is: {total_sum}\")\n",
    "    return total_sum\n",
    "file_operations()\n"
   ]
  },
  {
   "cell_type": "markdown",
   "id": "66620584-408d-42f4-9331-c908c615440a",
   "metadata": {},
   "source": [
    "QUESTION 18"
   ]
  },
  {
   "cell_type": "code",
   "execution_count": 84,
   "id": "bd5c027d-6582-4529-a76e-a6c7b5664784",
   "metadata": {},
   "outputs": [
    {
     "name": "stdout",
     "output_type": "stream",
     "text": [
      "{'hey': 1, 'i': 2, 'am': 1, 'an': 1, 'iitian,': 1, 'study': 1, 'in': 2, 'iit': 1, 'gandhinagar.': 1, 'there': 1, 'are': 1, 'total': 1, '23': 1, 'iits': 2, 'india,students': 1, 'from': 1, 'these': 1, 'get': 1, 'a': 1, 'good': 1, 'career': 1, 'opportunities': 1, 'worldwide.': 1}\n"
     ]
    }
   ],
   "source": [
    "def word_counter(file):\n",
    "    word_count = {}\n",
    "    with open(\"file.txt\",'r') as file:\n",
    "        for line in file:\n",
    "            words = line.strip().split()\n",
    "            for word in words:\n",
    "                word = word.lower().strip()\n",
    "                if word in word_count:\n",
    "                    word_count[word] += 1\n",
    "                else:\n",
    "                    word_count[word] = 1\n",
    "    return word_count\n",
    "def most_frequent_word(word_count):\n",
    "    max_count = 0\n",
    "    for word,count in word_count.items():\n",
    "        if count > max_count:\n",
    "            max_count = count\n",
    "            most_frequent = word\n",
    "    return most_frequent,max_count\n",
    "file1 = \"file.txt\"\n",
    "ultimate_result = word_counter(file1)\n",
    "print(ultimate_result)\n",
    "            "
   ]
  },
  {
   "cell_type": "markdown",
   "id": "c242c2ba-c606-47c0-8851-b41087149126",
   "metadata": {},
   "source": [
    "QUESTION 19"
   ]
  },
  {
   "cell_type": "code",
   "execution_count": 14,
   "id": "cee5f491-c0a2-44c8-9fe3-b0e2c5ad2ff4",
   "metadata": {},
   "outputs": [
    {
     "name": "stdout",
     "output_type": "stream",
     "text": [
      "mean is: 26.01\n"
     ]
    }
   ],
   "source": [
    "import random\n",
    "import numpy as np\n",
    "numbers = np.random.randint(1,50,100)\n",
    "with open(\"numbers2.txt\",'w') as file:\n",
    "    for i in numbers:\n",
    "        file.write(f\"{i}\\n\")\n",
    "numbers_from_file = []\n",
    "with open(\"numbers2.txt\",'r') as file:\n",
    "    for line in file:\n",
    "        numbers_from_file.append(int(line.strip()))\n",
    "\n",
    "mean = np.mean(numbers_from_file)\n",
    "print(f\"mean is:{mean: .2f}\")\n",
    "        "
   ]
  },
  {
   "cell_type": "markdown",
   "id": "3ce6d982-b803-4dfb-b8e2-7a530dfd289b",
   "metadata": {},
   "source": [
    "QUESTION 20"
   ]
  },
  {
   "cell_type": "code",
   "execution_count": 23,
   "id": "b1cfab15-cad0-4667-b252-f692d6267216",
   "metadata": {},
   "outputs": [
    {
     "name": "stdout",
     "output_type": "stream",
     "text": [
      "Sum of 'amount': 1180.0\n"
     ]
    }
   ],
   "source": [
    "import csv\n",
    "def sum_column(csv_file, column_name):\n",
    "    total = 0\n",
    "    with open(csv_file, 'r') as file:\n",
    "        reader = csv.DictReader(file)\n",
    "        for row in reader:\n",
    "            total += float(row[column_name])\n",
    "    return total\n",
    "csv_file = 'data.csv'  \n",
    "column_name = 'amount'\n",
    "result = sum_column(csv_file, column_name)\n",
    "print(f\"Sum of '{column_name}': {result}\")"
   ]
  },
  {
   "cell_type": "markdown",
   "id": "1e8b4094-2ae0-439f-aaec-c43688818a0a",
   "metadata": {},
   "source": [
    "QUESTION 21"
   ]
  },
  {
   "cell_type": "code",
   "execution_count": 25,
   "id": "a4c761dc-2fcc-4dac-a44c-975f257abf02",
   "metadata": {},
   "outputs": [
    {
     "name": "stdout",
     "output_type": "stream",
     "text": [
      "Mean: 45\n",
      "Median: 48\n",
      "Mode: 1\n",
      "Standard Deviation:  28.4136\n"
     ]
    }
   ],
   "source": [
    "import statistics\n",
    "\n",
    "def basic_statistics(numbers):\n",
    "    mean = statistics.mean(numbers)\n",
    "    median = statistics.median(numbers)\n",
    "    mode = statistics.mode(numbers)\n",
    "    stdev = statistics.stdev(numbers)\n",
    "    \n",
    "    return mean, median, mode, stdev\n",
    "\n",
    "numbers = [1, 90, 22, 48, 40, 53, 61]\n",
    "mean, median, mode, stdev = basic_statistics(numbers)\n",
    "\n",
    "print(f\"Mean: {mean}\")\n",
    "print(f\"Median: {median}\")\n",
    "print(f\"Mode: {mode}\")\n",
    "print(f\"Standard Deviation: {stdev: .4f}\")\n"
   ]
  },
  {
   "cell_type": "markdown",
   "id": "c4b64e02-e9d6-4fcb-bf20-06db7ecf3ab5",
   "metadata": {},
   "source": [
    "QUESTION 22"
   ]
  },
  {
   "cell_type": "code",
   "execution_count": 63,
   "id": "9141f4f7-a50f-4b63-b4eb-9726a3a856ea",
   "metadata": {},
   "outputs": [
    {
     "name": "stdout",
     "output_type": "stream",
     "text": [
      "0.26  0.83  1.0  0.27  0.23  0.9  0.0  0.51  0.93  0.11  "
     ]
    }
   ],
   "source": [
    "import random\n",
    "\n",
    "list1 = []\n",
    "for _ in range(10):\n",
    "    numbers = random.uniform(0,1)\n",
    "    list1.append(round(numbers,2))\n",
    "    \n",
    "def normalisation(any_list):\n",
    "    for i in any_list:\n",
    "        formula = round((i - min(any_list))/(max(any_list)-min(any_list)),2)\n",
    "        print(formula,end = '  ')\n",
    "result = normalisation(list1)"
   ]
  },
  {
   "cell_type": "markdown",
   "id": "4f77ae9b-53aa-4e93-af7d-b7eb84ab5bda",
   "metadata": {},
   "source": [
    "QUESTION 23"
   ]
  },
  {
   "cell_type": "code",
   "execution_count": 76,
   "id": "489111f3-8a22-4dd8-babb-d5b57cd63879",
   "metadata": {},
   "outputs": [
    {
     "name": "stdin",
     "output_type": "stream",
     "text": [
      "Enter a number: 1320981973824413423523174\n"
     ]
    },
    {
     "name": "stdout",
     "output_type": "stream",
     "text": [
      "The number is even\n"
     ]
    }
   ],
   "source": [
    "number = int(input(\"Enter a number:\"))\n",
    "if number%2 == 0:\n",
    "    print(\"The number is even\")\n",
    "else:\n",
    "    print(\"The number is false\")"
   ]
  },
  {
   "cell_type": "markdown",
   "id": "35b38459-2254-439b-8f89-169e13d50257",
   "metadata": {},
   "source": [
    "QUESTION 24"
   ]
  },
  {
   "cell_type": "code",
   "execution_count": 77,
   "id": "e432d5f0-8802-43ff-86fc-a8f98a77d714",
   "metadata": {},
   "outputs": [
    {
     "name": "stdin",
     "output_type": "stream",
     "text": [
      "Enter the numerical grade (0-100):  84\n"
     ]
    },
    {
     "name": "stdout",
     "output_type": "stream",
     "text": [
      "The letter grade is: B\n"
     ]
    }
   ],
   "source": [
    "def calculate_letter_grade(numerical_grade):\n",
    "    if 90 <= numerical_grade <= 100:\n",
    "        return 'A'\n",
    "    elif 80 <= numerical_grade < 90:\n",
    "        return 'B'\n",
    "    elif 70 <= numerical_grade < 80:\n",
    "        return 'C'\n",
    "    elif 60 <= numerical_grade < 70:\n",
    "        return 'D'\n",
    "    elif 0 <= numerical_grade < 60:\n",
    "        return 'F'\n",
    "    else:\n",
    "        return 'Invalid grade. Please enter a number between 0 and 100.'\n",
    "try:\n",
    "    numerical_grade = float(input(\"Enter the numerical grade (0-100): \"))\n",
    "    letter_grade = calculate_letter_grade(numerical_grade)\n",
    "    print(f\"The letter grade is: {letter_grade}\")\n",
    "except ValueError:\n",
    "    print(\"Invalid input. Please enter a numeric value.\")\n"
   ]
  },
  {
   "cell_type": "markdown",
   "id": "f95a17b7-6afc-45fa-a063-b6659d2fa406",
   "metadata": {},
   "source": [
    "QUESTION 25"
   ]
  },
  {
   "cell_type": "code",
   "execution_count": 83,
   "id": "18b4932f-320c-4e5e-883e-46ddc2455547",
   "metadata": {},
   "outputs": [
    {
     "name": "stdin",
     "output_type": "stream",
     "text": [
      "Enter a year: 2020\n"
     ]
    },
    {
     "name": "stdout",
     "output_type": "stream",
     "text": [
      "(True, 'it is a leap year')\n"
     ]
    }
   ],
   "source": [
    "def is_leap_year(year):\n",
    "    if year%4 == 0 and year%100 != 0 or year%400 == 0:\n",
    "        return (True,\"it is a leap year\")\n",
    "    else:\n",
    "        return (False,\"Not a leap year\")\n",
    "year = int(input(\"Enter a year:\"))\n",
    "result = is_leap_year(year)\n",
    "print(result)\n"
   ]
  }
 ],
 "metadata": {
  "kernelspec": {
   "display_name": "Python 3 (ipykernel)",
   "language": "python",
   "name": "python3"
  },
  "language_info": {
   "codemirror_mode": {
    "name": "ipython",
    "version": 3
   },
   "file_extension": ".py",
   "mimetype": "text/x-python",
   "name": "python",
   "nbconvert_exporter": "python",
   "pygments_lexer": "ipython3",
   "version": "3.10.6"
  }
 },
 "nbformat": 4,
 "nbformat_minor": 5
}
